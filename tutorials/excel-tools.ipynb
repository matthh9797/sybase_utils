{
 "cells": [
  {
   "cell_type": "code",
   "execution_count": 30,
   "id": "608720d5-c20b-4d82-aa6a-74b71a8e40cc",
   "metadata": {},
   "outputs": [],
   "source": [
    "import os\n",
    "import pandas as pd\n",
    "import pyodbc"
   ]
  },
  {
   "cell_type": "code",
   "execution_count": 79,
   "id": "37c28f87-fd4b-4c65-81cd-24662c3121ad",
   "metadata": {},
   "outputs": [],
   "source": [
    "# Query to DF\n",
    "def query_to_df(sql_file, driver='upiqm110'):\n",
    "\n",
    "    # Read SQL\n",
    "    sql_query = open(sql_file).read()\n",
    "\n",
    "    # Connection\n",
    "    print('Connecting to database ... ')\n",
    "    con = pyodbc.connect('DSN={driver}'.format(driver=driver))    \n",
    "\n",
    "    return pd.read_sql_query(sql_query, con)\n",
    "\n",
    "\n",
    "def queries_to_dfl(folder):  \n",
    "    file_list = [file for file in os.listdir(folder) if file.endswith(\".sql\")]\n",
    "    \n",
    "    dfl = []\n",
    "    for file in file_list:\n",
    "        sql_path = folder + '/' + file\n",
    "        df = query_to_df(sql_path)\n",
    "        dfl.append(df)\n",
    "    return dfl\n",
    "\n",
    "\n",
    "def dfl_to_excel(excel_file, dfl, sheet_names, startcol=1):\n",
    "    excel_path = excel_file + '.xlsx'\n",
    "\n",
    "    with pd.ExcelWriter(excel_path) as writer:\n",
    "        for i, df in enumerate(dfl):\n",
    "            df.to_excel(writer, sheet_names[i], index = False, startcol=startcol)\n",
    "        writer.save()\n",
    "        \n",
    "\n",
    "def dir_to_excel(excel_file, query_dir, startcol=1):\n",
    "    \n",
    "    file_list = [file for file in os.listdir(query_dir) if file.endswith(\".sql\")]\n",
    "    file_list_wo_extension = [file.rsplit('.', 1)[0] for file in file_list]\n",
    "    sheet_names = file_list_wo_extension\n",
    "    \n",
    "    dfl = queries_to_dfl(query_dir)\n",
    "    dfl_to_excel(excel_file, dfl, sheet_names, startcol=startcol)"
   ]
  },
  {
   "cell_type": "code",
   "execution_count": 80,
   "id": "f39972af-cab8-491d-ad0a-a4e83ae0d296",
   "metadata": {},
   "outputs": [
    {
     "name": "stdout",
     "output_type": "stream",
     "text": [
      "Connecting to database ... \n",
      "Connecting to database ... \n"
     ]
    }
   ],
   "source": [
    "dir_to_excel('mni-follow-up', 'outputs_follow_up')"
   ]
  }
 ],
 "metadata": {
  "kernelspec": {
   "display_name": "Python 3",
   "language": "python",
   "name": "python3"
  },
  "language_info": {
   "codemirror_mode": {
    "name": "ipython",
    "version": 3
   },
   "file_extension": ".py",
   "mimetype": "text/x-python",
   "name": "python",
   "nbconvert_exporter": "python",
   "pygments_lexer": "ipython3",
   "version": "3.8.8"
  }
 },
 "nbformat": 4,
 "nbformat_minor": 5
}
